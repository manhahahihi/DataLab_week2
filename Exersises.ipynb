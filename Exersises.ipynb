{
  "nbformat": 4,
  "nbformat_minor": 0,
  "metadata": {
    "colab": {
      "provenance": [],
      "authorship_tag": "ABX9TyPJXGO4DIdX1GCeNP9yQGOT",
      "include_colab_link": true
    },
    "kernelspec": {
      "name": "python3",
      "display_name": "Python 3"
    },
    "language_info": {
      "name": "python"
    }
  },
  "cells": [
    {
      "cell_type": "markdown",
      "metadata": {
        "id": "view-in-github",
        "colab_type": "text"
      },
      "source": [
        "<a href=\"https://colab.research.google.com/github/manhahahihi/DataLab_week2/blob/main/Exersises.ipynb\" target=\"_parent\"><img src=\"https://colab.research.google.com/assets/colab-badge.svg\" alt=\"Open In Colab\"/></a>"
      ]
    },
    {
      "cell_type": "code",
      "source": [
        "import numpy as np\n",
        "import pandas as pd\n"
      ],
      "metadata": {
        "id": "2lC6Xdzf356g"
      },
      "execution_count": 5,
      "outputs": []
    },
    {
      "cell_type": "code",
      "execution_count": 12,
      "metadata": {
        "colab": {
          "base_uri": "https://localhost:8080/",
          "height": 641
        },
        "id": "np05I4VC3BOM",
        "outputId": "ae0af1d8-020d-4733-879e-92f14e50f3ba"
      },
      "outputs": [
        {
          "output_type": "execute_result",
          "data": {
            "text/plain": [
              "       order_id                        name           ordered_at   price  \\\n",
              "0         10000    \"ICE CREAM\" Peanut Fudge  2018-01-01 11:30:00   $3.50   \n",
              "1         10000    \"ICE CREAM\" Peanut Fudge  2018-01-01 11:30:00   $3.50   \n",
              "2         10001          \"SORBET\" Raspberry  2018-01-01 12:14:54   $2.50   \n",
              "3         10001                         NaN  2018-01-01 12:14:54   $1.50   \n",
              "4         10001   \"CONE\" Dipped Waffle Cone  2018-01-01 12:14:54   $3.50   \n",
              "...         ...                         ...                  ...     ...   \n",
              "29917     18452  \"ICE CREAM\" Dulce De Leche  2018-06-26 03:56:13  $-1.50   \n",
              "29918     12889  \"ICE CREAM\" Dark Chocolate  2018-03-03 10:06:21   $4.00   \n",
              "29919     14526    \"ICE CREAM\" Peanut Fudge  2018-04-05 17:33:24   $3.50   \n",
              "29920     19589   \"CONE\" Dipped Waffle Cone  2018-07-20 09:10:01   $3.50   \n",
              "29921     19270       \"ICE CREAM\" Earl Gray  2018-07-13 09:20:21   $0.50   \n",
              "\n",
              "       quantity line_total  \n",
              "0             3     $10.50  \n",
              "1             1      $3.50  \n",
              "2             2      $5.00  \n",
              "3             1      $1.50  \n",
              "4             1      $3.50  \n",
              "...         ...        ...  \n",
              "29917         2     $-3.00  \n",
              "29918         3     $12.00  \n",
              "29919         3     $10.50  \n",
              "29920         2      $7.00  \n",
              "29921         2      $1.00  \n",
              "\n",
              "[29922 rows x 6 columns]"
            ],
            "text/html": [
              "\n",
              "  <div id=\"df-895a5c7c-2e2e-40de-8096-b6ac34d75c53\">\n",
              "    <div class=\"colab-df-container\">\n",
              "      <div>\n",
              "<style scoped>\n",
              "    .dataframe tbody tr th:only-of-type {\n",
              "        vertical-align: middle;\n",
              "    }\n",
              "\n",
              "    .dataframe tbody tr th {\n",
              "        vertical-align: top;\n",
              "    }\n",
              "\n",
              "    .dataframe thead th {\n",
              "        text-align: right;\n",
              "    }\n",
              "</style>\n",
              "<table border=\"1\" class=\"dataframe\">\n",
              "  <thead>\n",
              "    <tr style=\"text-align: right;\">\n",
              "      <th></th>\n",
              "      <th>order_id</th>\n",
              "      <th>name</th>\n",
              "      <th>ordered_at</th>\n",
              "      <th>price</th>\n",
              "      <th>quantity</th>\n",
              "      <th>line_total</th>\n",
              "    </tr>\n",
              "  </thead>\n",
              "  <tbody>\n",
              "    <tr>\n",
              "      <th>0</th>\n",
              "      <td>10000</td>\n",
              "      <td>\"ICE CREAM\" Peanut Fudge</td>\n",
              "      <td>2018-01-01 11:30:00</td>\n",
              "      <td>$3.50</td>\n",
              "      <td>3</td>\n",
              "      <td>$10.50</td>\n",
              "    </tr>\n",
              "    <tr>\n",
              "      <th>1</th>\n",
              "      <td>10000</td>\n",
              "      <td>\"ICE CREAM\" Peanut Fudge</td>\n",
              "      <td>2018-01-01 11:30:00</td>\n",
              "      <td>$3.50</td>\n",
              "      <td>1</td>\n",
              "      <td>$3.50</td>\n",
              "    </tr>\n",
              "    <tr>\n",
              "      <th>2</th>\n",
              "      <td>10001</td>\n",
              "      <td>\"SORBET\" Raspberry</td>\n",
              "      <td>2018-01-01 12:14:54</td>\n",
              "      <td>$2.50</td>\n",
              "      <td>2</td>\n",
              "      <td>$5.00</td>\n",
              "    </tr>\n",
              "    <tr>\n",
              "      <th>3</th>\n",
              "      <td>10001</td>\n",
              "      <td>NaN</td>\n",
              "      <td>2018-01-01 12:14:54</td>\n",
              "      <td>$1.50</td>\n",
              "      <td>1</td>\n",
              "      <td>$1.50</td>\n",
              "    </tr>\n",
              "    <tr>\n",
              "      <th>4</th>\n",
              "      <td>10001</td>\n",
              "      <td>\"CONE\" Dipped Waffle Cone</td>\n",
              "      <td>2018-01-01 12:14:54</td>\n",
              "      <td>$3.50</td>\n",
              "      <td>1</td>\n",
              "      <td>$3.50</td>\n",
              "    </tr>\n",
              "    <tr>\n",
              "      <th>...</th>\n",
              "      <td>...</td>\n",
              "      <td>...</td>\n",
              "      <td>...</td>\n",
              "      <td>...</td>\n",
              "      <td>...</td>\n",
              "      <td>...</td>\n",
              "    </tr>\n",
              "    <tr>\n",
              "      <th>29917</th>\n",
              "      <td>18452</td>\n",
              "      <td>\"ICE CREAM\" Dulce De Leche</td>\n",
              "      <td>2018-06-26 03:56:13</td>\n",
              "      <td>$-1.50</td>\n",
              "      <td>2</td>\n",
              "      <td>$-3.00</td>\n",
              "    </tr>\n",
              "    <tr>\n",
              "      <th>29918</th>\n",
              "      <td>12889</td>\n",
              "      <td>\"ICE CREAM\" Dark Chocolate</td>\n",
              "      <td>2018-03-03 10:06:21</td>\n",
              "      <td>$4.00</td>\n",
              "      <td>3</td>\n",
              "      <td>$12.00</td>\n",
              "    </tr>\n",
              "    <tr>\n",
              "      <th>29919</th>\n",
              "      <td>14526</td>\n",
              "      <td>\"ICE CREAM\" Peanut Fudge</td>\n",
              "      <td>2018-04-05 17:33:24</td>\n",
              "      <td>$3.50</td>\n",
              "      <td>3</td>\n",
              "      <td>$10.50</td>\n",
              "    </tr>\n",
              "    <tr>\n",
              "      <th>29920</th>\n",
              "      <td>19589</td>\n",
              "      <td>\"CONE\" Dipped Waffle Cone</td>\n",
              "      <td>2018-07-20 09:10:01</td>\n",
              "      <td>$3.50</td>\n",
              "      <td>2</td>\n",
              "      <td>$7.00</td>\n",
              "    </tr>\n",
              "    <tr>\n",
              "      <th>29921</th>\n",
              "      <td>19270</td>\n",
              "      <td>\"ICE CREAM\" Earl Gray</td>\n",
              "      <td>2018-07-13 09:20:21</td>\n",
              "      <td>$0.50</td>\n",
              "      <td>2</td>\n",
              "      <td>$1.00</td>\n",
              "    </tr>\n",
              "  </tbody>\n",
              "</table>\n",
              "<p>29922 rows × 6 columns</p>\n",
              "</div>\n",
              "      <button class=\"colab-df-convert\" onclick=\"convertToInteractive('df-895a5c7c-2e2e-40de-8096-b6ac34d75c53')\"\n",
              "              title=\"Convert this dataframe to an interactive table.\"\n",
              "              style=\"display:none;\">\n",
              "        \n",
              "  <svg xmlns=\"http://www.w3.org/2000/svg\" height=\"24px\"viewBox=\"0 0 24 24\"\n",
              "       width=\"24px\">\n",
              "    <path d=\"M0 0h24v24H0V0z\" fill=\"none\"/>\n",
              "    <path d=\"M18.56 5.44l.94 2.06.94-2.06 2.06-.94-2.06-.94-.94-2.06-.94 2.06-2.06.94zm-11 1L8.5 8.5l.94-2.06 2.06-.94-2.06-.94L8.5 2.5l-.94 2.06-2.06.94zm10 10l.94 2.06.94-2.06 2.06-.94-2.06-.94-.94-2.06-.94 2.06-2.06.94z\"/><path d=\"M17.41 7.96l-1.37-1.37c-.4-.4-.92-.59-1.43-.59-.52 0-1.04.2-1.43.59L10.3 9.45l-7.72 7.72c-.78.78-.78 2.05 0 2.83L4 21.41c.39.39.9.59 1.41.59.51 0 1.02-.2 1.41-.59l7.78-7.78 2.81-2.81c.8-.78.8-2.07 0-2.86zM5.41 20L4 18.59l7.72-7.72 1.47 1.35L5.41 20z\"/>\n",
              "  </svg>\n",
              "      </button>\n",
              "      \n",
              "  <style>\n",
              "    .colab-df-container {\n",
              "      display:flex;\n",
              "      flex-wrap:wrap;\n",
              "      gap: 12px;\n",
              "    }\n",
              "\n",
              "    .colab-df-convert {\n",
              "      background-color: #E8F0FE;\n",
              "      border: none;\n",
              "      border-radius: 50%;\n",
              "      cursor: pointer;\n",
              "      display: none;\n",
              "      fill: #1967D2;\n",
              "      height: 32px;\n",
              "      padding: 0 0 0 0;\n",
              "      width: 32px;\n",
              "    }\n",
              "\n",
              "    .colab-df-convert:hover {\n",
              "      background-color: #E2EBFA;\n",
              "      box-shadow: 0px 1px 2px rgba(60, 64, 67, 0.3), 0px 1px 3px 1px rgba(60, 64, 67, 0.15);\n",
              "      fill: #174EA6;\n",
              "    }\n",
              "\n",
              "    [theme=dark] .colab-df-convert {\n",
              "      background-color: #3B4455;\n",
              "      fill: #D2E3FC;\n",
              "    }\n",
              "\n",
              "    [theme=dark] .colab-df-convert:hover {\n",
              "      background-color: #434B5C;\n",
              "      box-shadow: 0px 1px 3px 1px rgba(0, 0, 0, 0.15);\n",
              "      filter: drop-shadow(0px 1px 2px rgba(0, 0, 0, 0.3));\n",
              "      fill: #FFFFFF;\n",
              "    }\n",
              "  </style>\n",
              "\n",
              "      <script>\n",
              "        const buttonEl =\n",
              "          document.querySelector('#df-895a5c7c-2e2e-40de-8096-b6ac34d75c53 button.colab-df-convert');\n",
              "        buttonEl.style.display =\n",
              "          google.colab.kernel.accessAllowed ? 'block' : 'none';\n",
              "\n",
              "        async function convertToInteractive(key) {\n",
              "          const element = document.querySelector('#df-895a5c7c-2e2e-40de-8096-b6ac34d75c53');\n",
              "          const dataTable =\n",
              "            await google.colab.kernel.invokeFunction('convertToInteractive',\n",
              "                                                     [key], {});\n",
              "          if (!dataTable) return;\n",
              "\n",
              "          const docLinkHtml = 'Like what you see? Visit the ' +\n",
              "            '<a target=\"_blank\" href=https://colab.research.google.com/notebooks/data_table.ipynb>data table notebook</a>'\n",
              "            + ' to learn more about interactive tables.';\n",
              "          element.innerHTML = '';\n",
              "          dataTable['output_type'] = 'display_data';\n",
              "          await google.colab.output.renderOutput(dataTable, element);\n",
              "          const docLink = document.createElement('div');\n",
              "          docLink.innerHTML = docLinkHtml;\n",
              "          element.appendChild(docLink);\n",
              "        }\n",
              "      </script>\n",
              "    </div>\n",
              "  </div>\n",
              "  "
            ]
          },
          "metadata": {},
          "execution_count": 12
        }
      ],
      "source": [
        "#1 Sale.\n",
        "df = pd.read_csv('sales.csv')\n",
        "df"
      ]
    },
    {
      "cell_type": "code",
      "source": [
        "#fix the column datatypes\n",
        "df['order_id'] = df['order_id'].astype(int)\n",
        "df['name'] = df['name'].astype(str)\n",
        "df['ordered_at'] = pd.to_datetime(df['ordered_at'])\n",
        "df['price'] = pd.to_numeric(df['price'].str.replace('$', '', regex=False), errors='coerce')\n",
        "df['quantity'] = df['quantity'].astype(int)\n",
        "df['line_total'] = pd.to_numeric(df['line_total'].str.replace('$', '', regex=False), errors='coerce')"
      ],
      "metadata": {
        "id": "nc_c8le65n6v"
      },
      "execution_count": 16,
      "outputs": []
    },
    {
      "cell_type": "code",
      "source": [
        "#drop if duplicated or null\n",
        "df = df.drop_duplicates()\n",
        "df = df.dropna()"
      ],
      "metadata": {
        "id": "mGcOQ7Su58wU"
      },
      "execution_count": 17,
      "outputs": []
    },
    {
      "cell_type": "code",
      "source": [
        "#Sanity check \n",
        "print(df.shape)"
      ],
      "metadata": {
        "colab": {
          "base_uri": "https://localhost:8080/"
        },
        "id": "ksebwBN06DkP",
        "outputId": "8dca14a7-6094-4b25-e4b7-354ac4958ad0"
      },
      "execution_count": 18,
      "outputs": [
        {
          "output_type": "stream",
          "name": "stdout",
          "text": [
            "(29384, 6)\n"
          ]
        }
      ]
    },
    {
      "cell_type": "code",
      "source": [
        "print(df.dtypes)"
      ],
      "metadata": {
        "colab": {
          "base_uri": "https://localhost:8080/"
        },
        "id": "dj0hEFWt6Opu",
        "outputId": "21696b12-3343-435a-b053-310616c45586"
      },
      "execution_count": 19,
      "outputs": [
        {
          "output_type": "stream",
          "name": "stdout",
          "text": [
            "order_id               int64\n",
            "name                  object\n",
            "ordered_at    datetime64[ns]\n",
            "price                float64\n",
            "quantity               int64\n",
            "line_total           float64\n",
            "dtype: object\n"
          ]
        }
      ]
    },
    {
      "cell_type": "code",
      "source": [
        "print(df.describe())"
      ],
      "metadata": {
        "colab": {
          "base_uri": "https://localhost:8080/"
        },
        "id": "lgTblbe56Ql5",
        "outputId": "14bc8c01-29bf-4905-9ba7-3168321d7b1d"
      },
      "execution_count": 20,
      "outputs": [
        {
          "output_type": "stream",
          "name": "stdout",
          "text": [
            "           order_id         price      quantity    line_total\n",
            "count  29384.000000  29384.000000  29384.000000  29384.000000\n",
            "mean   14994.462871      2.464607      2.001327      4.932293\n",
            "std     2889.503085      1.168527      0.819124      3.246016\n",
            "min    10000.000000     -4.000000      1.000000    -12.000000\n",
            "25%    12498.000000      1.500000      1.000000      2.500000\n",
            "50%    14976.000000      2.500000      2.000000      4.000000\n",
            "75%    17509.000000      3.500000      3.000000      7.500000\n",
            "max    19999.000000      4.000000      3.000000     12.000000\n"
          ]
        }
      ]
    },
    {
      "cell_type": "code",
      "source": [
        "import matplotlib.pyplot as plt\n",
        "df.hist(column='price')\n",
        "plt.show()"
      ],
      "metadata": {
        "colab": {
          "base_uri": "https://localhost:8080/",
          "height": 452
        },
        "id": "yS1GpSss6Scx",
        "outputId": "38fb8e7f-fb8b-4542-b19a-3134066a7cfd"
      },
      "execution_count": 21,
      "outputs": [
        {
          "output_type": "display_data",
          "data": {
            "text/plain": [
              "<Figure size 640x480 with 1 Axes>"
            ],
            "image/png": "[encoded data removed]"
          },
          "metadata": {}
        }
      ]
    },
    {
      "cell_type": "code",
      "source": [
        "import re\n",
        "# Load the sales.csv file into a DataFrame\n",
        "df = pd.read_csv('sales.csv')\n",
        "\n",
        "# Define a regular expression pattern to match the month and year portion of the ordered_at column\n",
        "pattern = re.compile(r'(\\d{4})-(\\d{2})-\\d{2}')\n",
        "\n",
        "# Use a lambda function with the regular expression pattern to extract the month and year\n",
        "df['month_year'] = df['ordered_at'].apply(lambda x: '-'.join(re.match(pattern, x).group(2, 1)))\n",
        "\n",
        "# Print the DataFrame with the new month_year column\n",
        "print(df.head())"
      ],
      "metadata": {
        "colab": {
          "base_uri": "https://localhost:8080/"
        },
        "id": "XWUI6iPx6pSc",
        "outputId": "6ef97a2b-9d48-436b-a23a-5dcfe026586b"
      },
      "execution_count": 23,
      "outputs": [
        {
          "output_type": "stream",
          "name": "stdout",
          "text": [
            "   order_id                       name           ordered_at  price  quantity  \\\n",
            "0     10000   \"ICE CREAM\" Peanut Fudge  2018-01-01 11:30:00  $3.50         3   \n",
            "1     10000   \"ICE CREAM\" Peanut Fudge  2018-01-01 11:30:00  $3.50         1   \n",
            "2     10001         \"SORBET\" Raspberry  2018-01-01 12:14:54  $2.50         2   \n",
            "3     10001                        NaN  2018-01-01 12:14:54  $1.50         1   \n",
            "4     10001  \"CONE\" Dipped Waffle Cone  2018-01-01 12:14:54  $3.50         1   \n",
            "\n",
            "  line_total month_year  \n",
            "0     $10.50    01-2018  \n",
            "1      $3.50    01-2018  \n",
            "2      $5.00    01-2018  \n",
            "3      $1.50    01-2018  \n",
            "4      $3.50    01-2018  \n"
          ]
        }
      ]
    },
    {
      "cell_type": "code",
      "source": [
        "#2. Job Market\n"
      ],
      "metadata": {
        "id": "mKRT-FGn6u7e"
      },
      "execution_count": 24,
      "outputs": []
    },
    {
      "cell_type": "code",
      "source": [
        "#Load the data using Pandas\n",
        "import pandas as pd\n",
        "\n",
        "# Load data from CSV file into a pandas DataFrame\n",
        "df = pd.read_csv('job-market (1).csv')\n",
        "print(df.head())"
      ],
      "metadata": {
        "colab": {
          "base_uri": "https://localhost:8080/"
        },
        "id": "Je6CypHU60g4",
        "outputId": "ed157db3-6c6b-47c7-d436-62d920286c5b"
      },
      "execution_count": 25,
      "outputs": [
        {
          "output_type": "stream",
          "name": "stdout",
          "text": [
            "           Id                                              Title  \\\n",
            "0  37404348.0                           Casual Stock Replenisher   \n",
            "1  37404337.0                           Casual Stock Replenisher   \n",
            "2  37404356.0  RETAIL SALES SUPERSTARS and STYLISTS Wanted - ...   \n",
            "3  37404330.0                              Team member - Belrose   \n",
            "4  37404308.0  Business Banking Contact Centre Specialist, Ni...   \n",
            "\n",
            "                                          Company                      Date  \\\n",
            "0                                     Aldi Stores  2018-10-07T00:00:00.000Z   \n",
            "1                                     Aldi Stores  2018-10-07T00:00:00.000Z   \n",
            "2                             LB Creative Pty Ltd  2018-10-07T00:00:00.000Z   \n",
            "3                          Anaconda Group Pty Ltd  2018-10-07T00:00:00.000Z   \n",
            "4  Commonwealth Bank - Business & Private Banking  2018-10-07T00:00:00.000Z   \n",
            "\n",
            "                  Location                         Area  \\\n",
            "0                   Sydney  North West & Hills District   \n",
            "1    Richmond & Hawkesbury                          NaN   \n",
            "2                 Brisbane          CBD & Inner Suburbs   \n",
            "3  Gosford & Central Coast                          NaN   \n",
            "4                   Sydney        Ryde & Macquarie Park   \n",
            "\n",
            "                   Classification  SubClassification  \\\n",
            "0      Retail & Consumer Products  Retail Assistants   \n",
            "1      Retail & Consumer Products  Retail Assistants   \n",
            "2      Retail & Consumer Products  Retail Assistants   \n",
            "3      Retail & Consumer Products  Retail Assistants   \n",
            "4  Call Centre & Customer Service    Sales - Inbound   \n",
            "\n",
            "                                         Requirement FullDescription  \\\n",
            "0  Our Casual Stock Replenishers pride themselves...             NaN   \n",
            "1  Our Casual Stock Replenishers pride themselves...             NaN   \n",
            "2  BRAND NEW FLAGSHIP STORE OPENING - SUNSHINE PLAZA             NaN   \n",
            "3  Bring it on - do you love the great outdoors a...             NaN   \n",
            "4  We are seeking highly articulate, enthusiastic...             NaN   \n",
            "\n",
            "   LowestSalary  HighestSalary JobType  \n",
            "0           0.0           30.0     NaN  \n",
            "1           0.0           30.0     NaN  \n",
            "2           0.0           30.0     NaN  \n",
            "3           0.0           30.0     NaN  \n",
            "4           0.0           30.0     NaN  \n"
          ]
        }
      ]
    },
    {
      "cell_type": "code",
      "source": [
        "#Visualize top 10 first rows\n",
        "print(df.head(10))"
      ],
      "metadata": {
        "colab": {
          "base_uri": "https://localhost:8080/"
        },
        "id": "rwurGKmH66ar",
        "outputId": "e413bce9-f02d-4d7d-926e-5ddb1917e23a"
      },
      "execution_count": 26,
      "outputs": [
        {
          "output_type": "stream",
          "name": "stdout",
          "text": [
            "           Id                                              Title  \\\n",
            "0  37404348.0                           Casual Stock Replenisher   \n",
            "1  37404337.0                           Casual Stock Replenisher   \n",
            "2  37404356.0  RETAIL SALES SUPERSTARS and STYLISTS Wanted - ...   \n",
            "3  37404330.0                              Team member - Belrose   \n",
            "4  37404308.0  Business Banking Contact Centre Specialist, Ni...   \n",
            "5  37404307.0  Business Banking Contact Centre Specialist, Ni...   \n",
            "6  37404355.0               Casual Café All-rounder in Semaphore   \n",
            "7  37404350.0           Casual Café All-rounder in Woolloongabba   \n",
            "8  37404301.0                                       Telemarketer   \n",
            "9  37404286.0                       Casual Dish Hand in Brighton   \n",
            "\n",
            "                                          Company                      Date  \\\n",
            "0                                     Aldi Stores  2018-10-07T00:00:00.000Z   \n",
            "1                                     Aldi Stores  2018-10-07T00:00:00.000Z   \n",
            "2                             LB Creative Pty Ltd  2018-10-07T00:00:00.000Z   \n",
            "3                          Anaconda Group Pty Ltd  2018-10-07T00:00:00.000Z   \n",
            "4  Commonwealth Bank - Business & Private Banking  2018-10-07T00:00:00.000Z   \n",
            "5  Commonwealth Bank - Business & Private Banking  2018-10-07T00:00:00.000Z   \n",
            "6                                      Jora Local  2018-10-07T00:00:00.000Z   \n",
            "7                                      Jora Local  2018-10-07T00:00:00.000Z   \n",
            "8                            Reventon Investments  2018-10-07T00:00:00.000Z   \n",
            "9                                      Jora Local  2018-10-07T00:00:00.000Z   \n",
            "\n",
            "                  Location                             Area  \\\n",
            "0                   Sydney      North West & Hills District   \n",
            "1    Richmond & Hawkesbury                              NaN   \n",
            "2                 Brisbane              CBD & Inner Suburbs   \n",
            "3  Gosford & Central Coast                              NaN   \n",
            "4                   Sydney            Ryde & Macquarie Park   \n",
            "5                   Sydney            Ryde & Macquarie Park   \n",
            "6                 Adelaide                              NaN   \n",
            "7                 Brisbane              CBD & Inner Suburbs   \n",
            "8                Melbourne              CBD & Inner Suburbs   \n",
            "9                Melbourne  Bayside & South Eastern Suburbs   \n",
            "\n",
            "                   Classification               SubClassification  \\\n",
            "0      Retail & Consumer Products               Retail Assistants   \n",
            "1      Retail & Consumer Products               Retail Assistants   \n",
            "2      Retail & Consumer Products               Retail Assistants   \n",
            "3      Retail & Consumer Products               Retail Assistants   \n",
            "4  Call Centre & Customer Service                 Sales - Inbound   \n",
            "5  Call Centre & Customer Service  Customer Service - Call Centre   \n",
            "6           Hospitality & Tourism                   Waiting Staff   \n",
            "7           Hospitality & Tourism                   Waiting Staff   \n",
            "8  Call Centre & Customer Service                Sales - Outbound   \n",
            "9           Hospitality & Tourism        Kitchen & Sandwich Hands   \n",
            "\n",
            "                                         Requirement FullDescription  \\\n",
            "0  Our Casual Stock Replenishers pride themselves...             NaN   \n",
            "1  Our Casual Stock Replenishers pride themselves...             NaN   \n",
            "2  BRAND NEW FLAGSHIP STORE OPENING - SUNSHINE PLAZA             NaN   \n",
            "3  Bring it on - do you love the great outdoors a...             NaN   \n",
            "4  We are seeking highly articulate, enthusiastic...             NaN   \n",
            "5  We are seeking highly articulate, enthusiastic...             NaN   \n",
            "6  A cafe/restaurant in Semaphore is seeking a ca...             NaN   \n",
            "7  A cafe in Woolloongabba is seeking a casual Ca...             NaN   \n",
            "8  Market leading investment & financial services...             NaN   \n",
            "9  A restaurant in Brighton is seeking a casual D...             NaN   \n",
            "\n",
            "   LowestSalary  HighestSalary JobType  \n",
            "0           0.0           30.0     NaN  \n",
            "1           0.0           30.0     NaN  \n",
            "2           0.0           30.0     NaN  \n",
            "3           0.0           30.0     NaN  \n",
            "4           0.0           30.0     NaN  \n",
            "5           0.0           30.0     NaN  \n",
            "6           0.0           30.0     NaN  \n",
            "7           0.0           30.0     NaN  \n",
            "8           0.0           30.0     NaN  \n",
            "9           0.0           30.0     NaN  \n"
          ]
        }
      ]
    },
    {
      "cell_type": "code",
      "source": [
        "#Fix column datatypes\n",
        "print(df['Id'].dtype)\n",
        "print(df['Id'].unique())"
      ],
      "metadata": {
        "colab": {
          "base_uri": "https://localhost:8080/"
        },
        "id": "Lr3Ev_5S68Kl",
        "outputId": "45ff0737-5881-4002-e96b-941596f69e80"
      },
      "execution_count": 32,
      "outputs": [
        {
          "output_type": "stream",
          "name": "stdout",
          "text": [
            "float64\n",
            "[37404348. 37404337. 37404356. ... 37388898. 37388893.       nan]\n"
          ]
        }
      ]
    },
    {
      "cell_type": "code",
      "source": [
        "print(df['JobType'].dtype)\n",
        "print(df['JobType'].unique())"
      ],
      "metadata": {
        "colab": {
          "base_uri": "https://localhost:8080/"
        },
        "id": "AYfWCPUf69aq",
        "outputId": "36bab9fa-e1f3-4341-c6c7-8edc2917e9c5"
      },
      "execution_count": 33,
      "outputs": [
        {
          "output_type": "stream",
          "name": "stdout",
          "text": [
            "object\n",
            "[nan 'Full Time' 'Contract/Temp' 'Part Time' 'Casual/Vacation']\n"
          ]
        }
      ]
    },
    {
      "cell_type": "code",
      "source": [
        "df.head(10)"
      ],
      "metadata": {
        "colab": {
          "base_uri": "https://localhost:8080/",
          "height": 1000
        },
        "id": "eXQP72uE7rdG",
        "outputId": "0d520c3d-0266-40cc-818a-eb3abccc5932"
      },
      "execution_count": 35,
      "outputs": [
        {
          "output_type": "execute_result",
          "data": {
            "text/plain": [
              "           Id                                              Title  \\\n",
              "0  37404348.0                           Casual Stock Replenisher   \n",
              "1  37404337.0                           Casual Stock Replenisher   \n",
              "2  37404356.0  RETAIL SALES SUPERSTARS and STYLISTS Wanted - ...   \n",
              "3  37404330.0                              Team member - Belrose   \n",
              "4  37404308.0  Business Banking Contact Centre Specialist, Ni...   \n",
              "5  37404307.0  Business Banking Contact Centre Specialist, Ni...   \n",
              "6  37404355.0               Casual Café All-rounder in Semaphore   \n",
              "7  37404350.0           Casual Café All-rounder in Woolloongabba   \n",
              "8  37404301.0                                       Telemarketer   \n",
              "9  37404286.0                       Casual Dish Hand in Brighton   \n",
              "\n",
              "                                          Company                      Date  \\\n",
              "0                                     Aldi Stores  2018-10-07T00:00:00.000Z   \n",
              "1                                     Aldi Stores  2018-10-07T00:00:00.000Z   \n",
              "2                             LB Creative Pty Ltd  2018-10-07T00:00:00.000Z   \n",
              "3                          Anaconda Group Pty Ltd  2018-10-07T00:00:00.000Z   \n",
              "4  Commonwealth Bank - Business & Private Banking  2018-10-07T00:00:00.000Z   \n",
              "5  Commonwealth Bank - Business & Private Banking  2018-10-07T00:00:00.000Z   \n",
              "6                                      Jora Local  2018-10-07T00:00:00.000Z   \n",
              "7                                      Jora Local  2018-10-07T00:00:00.000Z   \n",
              "8                            Reventon Investments  2018-10-07T00:00:00.000Z   \n",
              "9                                      Jora Local  2018-10-07T00:00:00.000Z   \n",
              "\n",
              "                  Location                             Area  \\\n",
              "0                   Sydney      North West & Hills District   \n",
              "1    Richmond & Hawkesbury                              NaN   \n",
              "2                 Brisbane              CBD & Inner Suburbs   \n",
              "3  Gosford & Central Coast                              NaN   \n",
              "4                   Sydney            Ryde & Macquarie Park   \n",
              "5                   Sydney            Ryde & Macquarie Park   \n",
              "6                 Adelaide                              NaN   \n",
              "7                 Brisbane              CBD & Inner Suburbs   \n",
              "8                Melbourne              CBD & Inner Suburbs   \n",
              "9                Melbourne  Bayside & South Eastern Suburbs   \n",
              "\n",
              "                   Classification               SubClassification  \\\n",
              "0      Retail & Consumer Products               Retail Assistants   \n",
              "1      Retail & Consumer Products               Retail Assistants   \n",
              "2      Retail & Consumer Products               Retail Assistants   \n",
              "3      Retail & Consumer Products               Retail Assistants   \n",
              "4  Call Centre & Customer Service                 Sales - Inbound   \n",
              "5  Call Centre & Customer Service  Customer Service - Call Centre   \n",
              "6           Hospitality & Tourism                   Waiting Staff   \n",
              "7           Hospitality & Tourism                   Waiting Staff   \n",
              "8  Call Centre & Customer Service                Sales - Outbound   \n",
              "9           Hospitality & Tourism        Kitchen & Sandwich Hands   \n",
              "\n",
              "                                         Requirement FullDescription  \\\n",
              "0  Our Casual Stock Replenishers pride themselves...             NaN   \n",
              "1  Our Casual Stock Replenishers pride themselves...             NaN   \n",
              "2  BRAND NEW FLAGSHIP STORE OPENING - SUNSHINE PLAZA             NaN   \n",
              "3  Bring it on - do you love the great outdoors a...             NaN   \n",
              "4  We are seeking highly articulate, enthusiastic...             NaN   \n",
              "5  We are seeking highly articulate, enthusiastic...             NaN   \n",
              "6  A cafe/restaurant in Semaphore is seeking a ca...             NaN   \n",
              "7  A cafe in Woolloongabba is seeking a casual Ca...             NaN   \n",
              "8  Market leading investment & financial services...             NaN   \n",
              "9  A restaurant in Brighton is seeking a casual D...             NaN   \n",
              "\n",
              "   LowestSalary  HighestSalary JobType  \n",
              "0           0.0           30.0     NaN  \n",
              "1           0.0           30.0     NaN  \n",
              "2           0.0           30.0     NaN  \n",
              "3           0.0           30.0     NaN  \n",
              "4           0.0           30.0     NaN  \n",
              "5           0.0           30.0     NaN  \n",
              "6           0.0           30.0     NaN  \n",
              "7           0.0           30.0     NaN  \n",
              "8           0.0           30.0     NaN  \n",
              "9           0.0           30.0     NaN  "
            ],
            "text/html": [
              "\n",
              "  <div id=\"df-a807723d-fc1f-4e7f-90ef-432b65a14718\">\n",
              "    <div class=\"colab-df-container\">\n",
              "      <div>\n",
              "<style scoped>\n",
              "    .dataframe tbody tr th:only-of-type {\n",
              "        vertical-align: middle;\n",
              "    }\n",
              "\n",
              "    .dataframe tbody tr th {\n",
              "        vertical-align: top;\n",
              "    }\n",
              "\n",
              "    .dataframe thead th {\n",
              "        text-align: right;\n",
              "    }\n",
              "</style>\n",
              "<table border=\"1\" class=\"dataframe\">\n",
              "  <thead>\n",
              "    <tr style=\"text-align: right;\">\n",
              "      <th></th>\n",
              "      <th>Id</th>\n",
              "      <th>Title</th>\n",
              "      <th>Company</th>\n",
              "      <th>Date</th>\n",
              "      <th>Location</th>\n",
              "      <th>Area</th>\n",
              "      <th>Classification</th>\n",
              "      <th>SubClassification</th>\n",
              "      <th>Requirement</th>\n",
              "      <th>FullDescription</th>\n",
              "      <th>LowestSalary</th>\n",
              "      <th>HighestSalary</th>\n",
              "      <th>JobType</th>\n",
              "    </tr>\n",
              "  </thead>\n",
              "  <tbody>\n",
              "    <tr>\n",
              "      <th>0</th>\n",
              "      <td>37404348.0</td>\n",
              "      <td>Casual Stock Replenisher</td>\n",
              "      <td>Aldi Stores</td>\n",
              "      <td>2018-10-07T00:00:00.000Z</td>\n",
              "      <td>Sydney</td>\n",
              "      <td>North West &amp; Hills District</td>\n",
              "      <td>Retail &amp; Consumer Products</td>\n",
              "      <td>Retail Assistants</td>\n",
              "      <td>Our Casual Stock Replenishers pride themselves...</td>\n",
              "      <td>NaN</td>\n",
              "      <td>0.0</td>\n",
              "      <td>30.0</td>\n",
              "      <td>NaN</td>\n",
              "    </tr>\n",
              "    <tr>\n",
              "      <th>1</th>\n",
              "      <td>37404337.0</td>\n",
              "      <td>Casual Stock Replenisher</td>\n",
              "      <td>Aldi Stores</td>\n",
              "      <td>2018-10-07T00:00:00.000Z</td>\n",
              "      <td>Richmond &amp; Hawkesbury</td>\n",
              "      <td>NaN</td>\n",
              "      <td>Retail &amp; Consumer Products</td>\n",
              "      <td>Retail Assistants</td>\n",
              "      <td>Our Casual Stock Replenishers pride themselves...</td>\n",
              "      <td>NaN</td>\n",
              "      <td>0.0</td>\n",
              "      <td>30.0</td>\n",
              "      <td>NaN</td>\n",
              "    </tr>\n",
              "    <tr>\n",
              "      <th>2</th>\n",
              "      <td>37404356.0</td>\n",
              "      <td>RETAIL SALES SUPERSTARS and STYLISTS Wanted - ...</td>\n",
              "      <td>LB Creative Pty Ltd</td>\n",
              "      <td>2018-10-07T00:00:00.000Z</td>\n",
              "      <td>Brisbane</td>\n",
              "      <td>CBD &amp; Inner Suburbs</td>\n",
              "      <td>Retail &amp; Consumer Products</td>\n",
              "      <td>Retail Assistants</td>\n",
              "      <td>BRAND NEW FLAGSHIP STORE OPENING - SUNSHINE PLAZA</td>\n",
              "      <td>NaN</td>\n",
              "      <td>0.0</td>\n",
              "      <td>30.0</td>\n",
              "      <td>NaN</td>\n",
              "    </tr>\n",
              "    <tr>\n",
              "      <th>3</th>\n",
              "      <td>37404330.0</td>\n",
              "      <td>Team member - Belrose</td>\n",
              "      <td>Anaconda Group Pty Ltd</td>\n",
              "      <td>2018-10-07T00:00:00.000Z</td>\n",
              "      <td>Gosford &amp; Central Coast</td>\n",
              "      <td>NaN</td>\n",
              "      <td>Retail &amp; Consumer Products</td>\n",
              "      <td>Retail Assistants</td>\n",
              "      <td>Bring it on - do you love the great outdoors a...</td>\n",
              "      <td>NaN</td>\n",
              "      <td>0.0</td>\n",
              "      <td>30.0</td>\n",
              "      <td>NaN</td>\n",
              "    </tr>\n",
              "    <tr>\n",
              "      <th>4</th>\n",
              "      <td>37404308.0</td>\n",
              "      <td>Business Banking Contact Centre Specialist, Ni...</td>\n",
              "      <td>Commonwealth Bank - Business &amp; Private Banking</td>\n",
              "      <td>2018-10-07T00:00:00.000Z</td>\n",
              "      <td>Sydney</td>\n",
              "      <td>Ryde &amp; Macquarie Park</td>\n",
              "      <td>Call Centre &amp; Customer Service</td>\n",
              "      <td>Sales - Inbound</td>\n",
              "      <td>We are seeking highly articulate, enthusiastic...</td>\n",
              "      <td>NaN</td>\n",
              "      <td>0.0</td>\n",
              "      <td>30.0</td>\n",
              "      <td>NaN</td>\n",
              "    </tr>\n",
              "    <tr>\n",
              "      <th>5</th>\n",
              "      <td>37404307.0</td>\n",
              "      <td>Business Banking Contact Centre Specialist, Ni...</td>\n",
              "      <td>Commonwealth Bank - Business &amp; Private Banking</td>\n",
              "      <td>2018-10-07T00:00:00.000Z</td>\n",
              "      <td>Sydney</td>\n",
              "      <td>Ryde &amp; Macquarie Park</td>\n",
              "      <td>Call Centre &amp; Customer Service</td>\n",
              "      <td>Customer Service - Call Centre</td>\n",
              "      <td>We are seeking highly articulate, enthusiastic...</td>\n",
              "      <td>NaN</td>\n",
              "      <td>0.0</td>\n",
              "      <td>30.0</td>\n",
              "      <td>NaN</td>\n",
              "    </tr>\n",
              "    <tr>\n",
              "      <th>6</th>\n",
              "      <td>37404355.0</td>\n",
              "      <td>Casual Café All-rounder in Semaphore</td>\n",
              "      <td>Jora Local</td>\n",
              "      <td>2018-10-07T00:00:00.000Z</td>\n",
              "      <td>Adelaide</td>\n",
              "      <td>NaN</td>\n",
              "      <td>Hospitality &amp; Tourism</td>\n",
              "      <td>Waiting Staff</td>\n",
              "      <td>A cafe/restaurant in Semaphore is seeking a ca...</td>\n",
              "      <td>NaN</td>\n",
              "      <td>0.0</td>\n",
              "      <td>30.0</td>\n",
              "      <td>NaN</td>\n",
              "    </tr>\n",
              "    <tr>\n",
              "      <th>7</th>\n",
              "      <td>37404350.0</td>\n",
              "      <td>Casual Café All-rounder in Woolloongabba</td>\n",
              "      <td>Jora Local</td>\n",
              "      <td>2018-10-07T00:00:00.000Z</td>\n",
              "      <td>Brisbane</td>\n",
              "      <td>CBD &amp; Inner Suburbs</td>\n",
              "      <td>Hospitality &amp; Tourism</td>\n",
              "      <td>Waiting Staff</td>\n",
              "      <td>A cafe in Woolloongabba is seeking a casual Ca...</td>\n",
              "      <td>NaN</td>\n",
              "      <td>0.0</td>\n",
              "      <td>30.0</td>\n",
              "      <td>NaN</td>\n",
              "    </tr>\n",
              "    <tr>\n",
              "      <th>8</th>\n",
              "      <td>37404301.0</td>\n",
              "      <td>Telemarketer</td>\n",
              "      <td>Reventon Investments</td>\n",
              "      <td>2018-10-07T00:00:00.000Z</td>\n",
              "      <td>Melbourne</td>\n",
              "      <td>CBD &amp; Inner Suburbs</td>\n",
              "      <td>Call Centre &amp; Customer Service</td>\n",
              "      <td>Sales - Outbound</td>\n",
              "      <td>Market leading investment &amp; financial services...</td>\n",
              "      <td>NaN</td>\n",
              "      <td>0.0</td>\n",
              "      <td>30.0</td>\n",
              "      <td>NaN</td>\n",
              "    </tr>\n",
              "    <tr>\n",
              "      <th>9</th>\n",
              "      <td>37404286.0</td>\n",
              "      <td>Casual Dish Hand in Brighton</td>\n",
              "      <td>Jora Local</td>\n",
              "      <td>2018-10-07T00:00:00.000Z</td>\n",
              "      <td>Melbourne</td>\n",
              "      <td>Bayside &amp; South Eastern Suburbs</td>\n",
              "      <td>Hospitality &amp; Tourism</td>\n",
              "      <td>Kitchen &amp; Sandwich Hands</td>\n",
              "      <td>A restaurant in Brighton is seeking a casual D...</td>\n",
              "      <td>NaN</td>\n",
              "      <td>0.0</td>\n",
              "      <td>30.0</td>\n",
              "      <td>NaN</td>\n",
              "    </tr>\n",
              "  </tbody>\n",
              "</table>\n",
              "</div>\n",
              "      <button class=\"colab-df-convert\" onclick=\"convertToInteractive('df-a807723d-fc1f-4e7f-90ef-432b65a14718')\"\n",
              "              title=\"Convert this dataframe to an interactive table.\"\n",
              "              style=\"display:none;\">\n",
              "        \n",
              "  <svg xmlns=\"http://www.w3.org/2000/svg\" height=\"24px\"viewBox=\"0 0 24 24\"\n",
              "       width=\"24px\">\n",
              "    <path d=\"M0 0h24v24H0V0z\" fill=\"none\"/>\n",
              "    <path d=\"M18.56 5.44l.94 2.06.94-2.06 2.06-.94-2.06-.94-.94-2.06-.94 2.06-2.06.94zm-11 1L8.5 8.5l.94-2.06 2.06-.94-2.06-.94L8.5 2.5l-.94 2.06-2.06.94zm10 10l.94 2.06.94-2.06 2.06-.94-2.06-.94-.94-2.06-.94 2.06-2.06.94z\"/><path d=\"M17.41 7.96l-1.37-1.37c-.4-.4-.92-.59-1.43-.59-.52 0-1.04.2-1.43.59L10.3 9.45l-7.72 7.72c-.78.78-.78 2.05 0 2.83L4 21.41c.39.39.9.59 1.41.59.51 0 1.02-.2 1.41-.59l7.78-7.78 2.81-2.81c.8-.78.8-2.07 0-2.86zM5.41 20L4 18.59l7.72-7.72 1.47 1.35L5.41 20z\"/>\n",
              "  </svg>\n",
              "      </button>\n",
              "      \n",
              "  <style>\n",
              "    .colab-df-container {\n",
              "      display:flex;\n",
              "      flex-wrap:wrap;\n",
              "      gap: 12px;\n",
              "    }\n",
              "\n",
              "    .colab-df-convert {\n",
              "      background-color: #E8F0FE;\n",
              "      border: none;\n",
              "      border-radius: 50%;\n",
              "      cursor: pointer;\n",
              "      display: none;\n",
              "      fill: #1967D2;\n",
              "      height: 32px;\n",
              "      padding: 0 0 0 0;\n",
              "      width: 32px;\n",
              "    }\n",
              "\n",
              "    .colab-df-convert:hover {\n",
              "      background-color: #E2EBFA;\n",
              "      box-shadow: 0px 1px 2px rgba(60, 64, 67, 0.3), 0px 1px 3px 1px rgba(60, 64, 67, 0.15);\n",
              "      fill: #174EA6;\n",
              "    }\n",
              "\n",
              "    [theme=dark] .colab-df-convert {\n",
              "      background-color: #3B4455;\n",
              "      fill: #D2E3FC;\n",
              "    }\n",
              "\n",
              "    [theme=dark] .colab-df-convert:hover {\n",
              "      background-color: #434B5C;\n",
              "      box-shadow: 0px 1px 3px 1px rgba(0, 0, 0, 0.15);\n",
              "      filter: drop-shadow(0px 1px 2px rgba(0, 0, 0, 0.3));\n",
              "      fill: #FFFFFF;\n",
              "    }\n",
              "  </style>\n",
              "\n",
              "      <script>\n",
              "        const buttonEl =\n",
              "          document.querySelector('#df-a807723d-fc1f-4e7f-90ef-432b65a14718 button.colab-df-convert');\n",
              "        buttonEl.style.display =\n",
              "          google.colab.kernel.accessAllowed ? 'block' : 'none';\n",
              "\n",
              "        async function convertToInteractive(key) {\n",
              "          const element = document.querySelector('#df-a807723d-fc1f-4e7f-90ef-432b65a14718');\n",
              "          const dataTable =\n",
              "            await google.colab.kernel.invokeFunction('convertToInteractive',\n",
              "                                                     [key], {});\n",
              "          if (!dataTable) return;\n",
              "\n",
              "          const docLinkHtml = 'Like what you see? Visit the ' +\n",
              "            '<a target=\"_blank\" href=https://colab.research.google.com/notebooks/data_table.ipynb>data table notebook</a>'\n",
              "            + ' to learn more about interactive tables.';\n",
              "          element.innerHTML = '';\n",
              "          dataTable['output_type'] = 'display_data';\n",
              "          await google.colab.output.renderOutput(dataTable, element);\n",
              "          const docLink = document.createElement('div');\n",
              "          docLink.innerHTML = docLinkHtml;\n",
              "          element.appendChild(docLink);\n",
              "        }\n",
              "      </script>\n",
              "    </div>\n",
              "  </div>\n",
              "  "
            ]
          },
          "metadata": {},
          "execution_count": 35
        }
      ]
    },
    {
      "cell_type": "code",
      "source": [
        "#Check & clean data\n",
        "print(df.shape)"
      ],
      "metadata": {
        "colab": {
          "base_uri": "https://localhost:8080/"
        },
        "id": "WgpVRBSU7vec",
        "outputId": "f0d1cc54-3e2f-4b02-97ef-64e188e38213"
      },
      "execution_count": 36,
      "outputs": [
        {
          "output_type": "stream",
          "name": "stdout",
          "text": [
            "(40789, 13)\n"
          ]
        }
      ]
    },
    {
      "cell_type": "code",
      "source": [
        "print(df.describe())"
      ],
      "metadata": {
        "colab": {
          "base_uri": "https://localhost:8080/"
        },
        "id": "skxvuWcm7x3H",
        "outputId": "b71a21b7-25d7-4764-81a5-5893c78e8246"
      },
      "execution_count": 37,
      "outputs": [
        {
          "output_type": "stream",
          "name": "stdout",
          "text": [
            "                 Id  LowestSalary  HighestSalary\n",
            "count  1.009900e+04  10099.000000   10099.000000\n",
            "mean   3.739049e+07     24.578671      42.290326\n",
            "std    2.618946e+04     20.387614      11.458869\n",
            "min    3.679829e+07      0.000000      30.000000\n",
            "25%    3.738647e+07      0.000000      30.000000\n",
            "50%    3.739646e+07     30.000000      40.000000\n",
            "75%    3.740148e+07     40.000000      50.000000\n",
            "max    3.740440e+07     50.000000      60.000000\n"
          ]
        }
      ]
    }
  ]
}